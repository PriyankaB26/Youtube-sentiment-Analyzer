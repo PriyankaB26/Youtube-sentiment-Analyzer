{
  "nbformat": 4,
  "nbformat_minor": 0,
  "metadata": {
    "colab": {
      "provenance": [],
      "include_colab_link": true
    },
    "kernelspec": {
      "name": "python3",
      "display_name": "Python 3"
    },
    "language_info": {
      "name": "python"
    }
  },
  "cells": [
    {
      "cell_type": "markdown",
      "metadata": {
        "id": "view-in-github",
        "colab_type": "text"
      },
      "source": [
        "<a href=\"https://colab.research.google.com/github/PriyankaB26/Youtube-sentiment-Analyzer/blob/main/modelsentiment.ipynb\" target=\"_parent\"><img src=\"https://colab.research.google.com/assets/colab-badge.svg\" alt=\"Open In Colab\"/></a>"
      ]
    },
    {
      "cell_type": "code",
      "execution_count": 20,
      "metadata": {
        "collapsed": true,
        "id": "eQyqu65uvZbU"
      },
      "outputs": [],
      "source": [
        "import pandas as pd"
      ]
    },
    {
      "cell_type": "code",
      "source": [
        "from google.colab import files\n",
        "file.open(\"/content/drive/My\\ Drive/IMDB Dataset.csv\")"
      ],
      "metadata": {
        "colab": {
          "base_uri": "https://localhost:8080/",
          "height": 158
        },
        "id": "mOnnfS8Hxo_s",
        "outputId": "bc364b59-87a6-40b7-8159-ac5190025760"
      },
      "execution_count": 21,
      "outputs": [
        {
          "output_type": "error",
          "ename": "NameError",
          "evalue": "name 'file' is not defined",
          "traceback": [
            "\u001b[0;31m---------------------------------------------------------------------------\u001b[0m",
            "\u001b[0;31mNameError\u001b[0m                                 Traceback (most recent call last)",
            "\u001b[0;32m<ipython-input-21-8a3b30eb3351>\u001b[0m in \u001b[0;36m<cell line: 2>\u001b[0;34m()\u001b[0m\n\u001b[1;32m      1\u001b[0m \u001b[0;32mfrom\u001b[0m \u001b[0mgoogle\u001b[0m\u001b[0;34m.\u001b[0m\u001b[0mcolab\u001b[0m \u001b[0;32mimport\u001b[0m \u001b[0mfiles\u001b[0m\u001b[0;34m\u001b[0m\u001b[0;34m\u001b[0m\u001b[0m\n\u001b[0;32m----> 2\u001b[0;31m \u001b[0mfile\u001b[0m\u001b[0;34m.\u001b[0m\u001b[0mopen\u001b[0m\u001b[0;34m(\u001b[0m\u001b[0;34m\"/content/drive/My\\ Drive/IMDB Dataset.csv\"\u001b[0m\u001b[0;34m)\u001b[0m\u001b[0;34m\u001b[0m\u001b[0;34m\u001b[0m\u001b[0m\n\u001b[0m",
            "\u001b[0;31mNameError\u001b[0m: name 'file' is not defined"
          ]
        }
      ]
    },
    {
      "cell_type": "code",
      "source": [
        "# Load the uploaded file\n",
        "df = pd.read_csv('IMDB Dataset.csv')"
      ],
      "metadata": {
        "id": "Ozlr2VmxxrG-"
      },
      "execution_count": null,
      "outputs": []
    },
    {
      "cell_type": "markdown",
      "source": [
        "# New Section"
      ],
      "metadata": {
        "id": "RoOGvnrVw6Fr"
      }
    },
    {
      "cell_type": "code",
      "source": [
        "import re\n",
        "import string\n",
        "\n",
        "def clean_text(text):\n",
        "    # Lowercasing the text\n",
        "    text = text.lower()\n",
        "\n",
        "    # Remove URLs\n",
        "    text = re.sub(r'http\\S+|www\\S+|https\\S+', '', text, flags=re.MULTILINE)\n",
        "\n",
        "    # Remove punctuations\n",
        "    text = text.translate(str.maketrans('', '', string.punctuation))\n",
        "\n",
        "    # Remove numbers\n",
        "    text = re.sub(r'\\d+', '', text)\n",
        "\n",
        "    # Remove extra spaces\n",
        "    text = re.sub(r'\\s+', ' ', text).strip()\n",
        "\n",
        "    return text\n",
        "\n",
        "# Apply the cleaning function to the reviews\n",
        "df['cleaned_review'] = df['review'].apply(clean_text)\n",
        "\n",
        "# Preview cleaned data\n",
        "print(df['cleaned_review'].head())\n",
        "\n"
      ],
      "metadata": {
        "colab": {
          "base_uri": "https://localhost:8080/"
        },
        "id": "WGtn_Bcc6gGR",
        "outputId": "e35582cb-c7a9-4037-fe35-98d8973c1dc5"
      },
      "execution_count": 22,
      "outputs": [
        {
          "output_type": "stream",
          "name": "stdout",
          "text": [
            "0    one of the other reviewers has mentioned that ...\n",
            "1    a wonderful little production br br the filmin...\n",
            "2    i thought this was a wonderful way to spend ti...\n",
            "3    basically theres a family where a little boy j...\n",
            "4    petter matteis love in the time of money is a ...\n",
            "Name: cleaned_review, dtype: object\n"
          ]
        }
      ]
    },
    {
      "cell_type": "code",
      "source": [
        "df.info()"
      ],
      "metadata": {
        "colab": {
          "base_uri": "https://localhost:8080/"
        },
        "id": "UaSamnvMz1QZ",
        "outputId": "c1982097-5b3b-4b14-a660-600716c0d82a"
      },
      "execution_count": 23,
      "outputs": [
        {
          "output_type": "stream",
          "name": "stdout",
          "text": [
            "<class 'pandas.core.frame.DataFrame'>\n",
            "RangeIndex: 50000 entries, 0 to 49999\n",
            "Data columns (total 3 columns):\n",
            " #   Column          Non-Null Count  Dtype \n",
            "---  ------          --------------  ----- \n",
            " 0   review          50000 non-null  object\n",
            " 1   sentiment       50000 non-null  object\n",
            " 2   cleaned_review  50000 non-null  object\n",
            "dtypes: object(3)\n",
            "memory usage: 1.1+ MB\n"
          ]
        }
      ]
    },
    {
      "cell_type": "code",
      "source": [
        "from sklearn.feature_extraction.text import TfidfVectorizer\n",
        "\n",
        "# Initialize the TF-IDF Vectorizer\n",
        "tfidf = TfidfVectorizer(max_features=5000)\n",
        "\n",
        "# Fit and transform the cleaned reviews\n",
        "X = tfidf.fit_transform(df['cleaned_review']).toarray()\n",
        "\n",
        "# Encode the sentiment labels (assuming 'positive' and 'negative')\n",
        "from sklearn.preprocessing import LabelEncoder\n",
        "\n",
        "le = LabelEncoder()\n",
        "y = le.fit_transform(df['sentiment'])\n",
        "\n",
        "# Split the data into training and testing sets\n",
        "from sklearn.model_selection import train_test_split\n",
        "\n",
        "X_train, X_test, y_train, y_test = train_test_split(X, y, test_size=0.25, random_state=42)\n"
      ],
      "metadata": {
        "id": "xXqThSV26pa-"
      },
      "execution_count": 27,
      "outputs": []
    },
    {
      "cell_type": "code",
      "source": [
        "from sklearn.naive_bayes import MultinomialNB\n",
        "from sklearn.metrics import accuracy_score, classification_report\n",
        "\n",
        "# Initialize the model\n",
        "model = MultinomialNB()\n",
        "\n",
        "# Train the model\n",
        "model.fit(X_train, y_train)\n",
        "\n",
        "# Predict on the test set\n",
        "y_pred = model.predict(X_test)\n",
        "\n",
        "# Evaluate the model\n",
        "print(f\"Accuracy: {accuracy_score(y_test, y_pred)}\")\n",
        "print(classification_report(y_test, y_pred, target_names=le.classes_))\n"
      ],
      "metadata": {
        "colab": {
          "base_uri": "https://localhost:8080/"
        },
        "id": "YDO5nots94yr",
        "outputId": "805b9d26-9349-436c-a56b-7a18c481d5a3"
      },
      "execution_count": 37,
      "outputs": [
        {
          "output_type": "stream",
          "name": "stdout",
          "text": [
            "Accuracy: 0.8516\n",
            "              precision    recall  f1-score   support\n",
            "\n",
            "    negative       0.85      0.85      0.85      6157\n",
            "    positive       0.86      0.85      0.85      6343\n",
            "\n",
            "    accuracy                           0.85     12500\n",
            "   macro avg       0.85      0.85      0.85     12500\n",
            "weighted avg       0.85      0.85      0.85     12500\n",
            "\n"
          ]
        }
      ]
    },
    {
      "cell_type": "code",
      "source": [
        "# Assuming the model, tfidf, and le are already available from the training process\n",
        "\n",
        "# Function to fetch and analyze YouTube comments\n",
        "def analyze_youtube_video_sentiment(video_id, model, tfidf, le):\n",
        "    # Fetch comments\n",
        "    comments = video_comments(video_id)\n",
        "\n",
        "    # Clean the comments\n",
        "    cleaned_comments = [clean_text(comment) for comment in comments]\n",
        "\n",
        "    # Transform comments into the TF-IDF feature space\n",
        "    X_comments = tfidf.transform(cleaned_comments).toarray()\n",
        "\n",
        "    # Predict sentiments\n",
        "    predicted_sentiments = model.predict(X_comments)\n",
        "\n",
        "    # Convert predictions to sentiment labels\n",
        "    sentiment_labels = le.inverse_transform(predicted_sentiments)\n",
        "\n",
        "    # Calculate sentiment percentages\n",
        "    positive_percentage, negative_percentage, neutral_percentage = calculate_sentiment_percentages(sentiment_labels)\n",
        "\n",
        "    # Display results\n",
        "    print(f\"Positive: {positive_percentage:.2f}%\")\n",
        "    print(f\"Negative: {negative_percentage:.2f}%\")\n",
        "    print(f\"Neutral: {neutral_percentage:.2f}%\")\n",
        "\n",
        "    return sentiment_labels\n",
        "\n",
        "\n"
      ],
      "metadata": {
        "colab": {
          "base_uri": "https://localhost:8080/"
        },
        "id": "8EEm7zfo5n1E",
        "outputId": "992d288a-7c6a-491a-fe3a-e085f8622af2"
      },
      "execution_count": 29,
      "outputs": [
        {
          "output_type": "stream",
          "name": "stdout",
          "text": [
            "Positive: 50.45%\n",
            "Negative: 49.55%\n",
            "Neutral: 0.00%\n"
          ]
        }
      ]
    },
    {
      "cell_type": "code",
      "source": [
        "# Example usage: replace with the actual video ID\n",
        "video_link = input(\"Enter the video link: \")  # Replace with the actual video ID\n",
        "video_id = video_link.split(\"=\")[1]\n",
        "sentiment_results = analyze_youtube_video_sentiment(video_id, model, tfidf, le)\n"
      ],
      "metadata": {
        "colab": {
          "base_uri": "https://localhost:8080/"
        },
        "id": "_9fFZ4VO_FF0",
        "outputId": "88d95498-ad56-4987-ab42-5d5b1c0f7495"
      },
      "execution_count": 33,
      "outputs": [
        {
          "output_type": "stream",
          "name": "stdout",
          "text": [
            "Enter the video link: https://www.youtube.com/watch?v=3xIVCRoNCXg\n",
            "Positive: 41.01%\n",
            "Negative: 58.99%\n",
            "Neutral: 0.00%\n"
          ]
        }
      ]
    },
    {
      "cell_type": "code",
      "source": [
        "# Example usage: replace with the actual video ID\n",
        "video_link = input(\"Enter the video link: \")  # Replace with the actual video ID\n",
        "video_id = video_link.split(\"=\")[1]\n",
        "sentiment_results = analyze_youtube_video_sentiment(video_id, model, tfidf, le)\n"
      ],
      "metadata": {
        "colab": {
          "base_uri": "https://localhost:8080/"
        },
        "id": "lDPAak-w_GRX",
        "outputId": "4ce43bca-5e0e-4f36-c3f5-e8b828164cb0"
      },
      "execution_count": 40,
      "outputs": [
        {
          "output_type": "stream",
          "name": "stdout",
          "text": [
            "Enter the video link: https://www.youtube.com/watch?v=EVDsImdq4Yg\n",
            "Positive: 41.08%\n",
            "Negative: 58.92%\n",
            "Neutral: 0.00%\n"
          ]
        }
      ]
    },
    {
      "cell_type": "code",
      "source": [
        "# Example usage: replace with the actual video ID\n",
        "video_link = input(\"Enter the video link: \")  # Replace with the actual video ID\n",
        "video_id = video_link.split(\"=\")[1]\n",
        "sentiment_results = analyze_youtube_video_sentiment(video_id, model, tfidf, le)\n"
      ],
      "metadata": {
        "colab": {
          "base_uri": "https://localhost:8080/"
        },
        "id": "GWZtYMnRAjq2",
        "outputId": "4c21441e-1862-4500-e8e9-f32bb20a1b8f"
      },
      "execution_count": 41,
      "outputs": [
        {
          "output_type": "stream",
          "name": "stdout",
          "text": [
            "Enter the video link: https://www.youtube.com/watch?v=pX2zvfD6GCY\n",
            "Positive: 36.00%\n",
            "Negative: 64.00%\n",
            "Neutral: 0.00%\n"
          ]
        }
      ]
    }
  ]
}